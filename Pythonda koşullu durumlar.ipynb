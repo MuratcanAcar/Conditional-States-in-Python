{
 "cells": [
  {
   "cell_type": "code",
   "execution_count": null,
   "id": "8e55cc65",
   "metadata": {},
   "outputs": [],
   "source": [
    "#Mantıksal değerler (boolean)   #True ve False değerine sahiptir."
   ]
  },
  {
   "cell_type": "code",
   "execution_count": 1,
   "id": "557c45c3",
   "metadata": {},
   "outputs": [
    {
     "data": {
      "text/plain": [
       "bool"
      ]
     },
     "execution_count": 1,
     "metadata": {},
     "output_type": "execute_result"
    }
   ],
   "source": [
    "a= True\n",
    "type(a)"
   ]
  },
  {
   "cell_type": "code",
   "execution_count": 2,
   "id": "c5802dee",
   "metadata": {},
   "outputs": [
    {
     "data": {
      "text/plain": [
       "bool"
      ]
     },
     "execution_count": 2,
     "metadata": {},
     "output_type": "execute_result"
    }
   ],
   "source": [
    "b = False\n",
    "type(b)"
   ]
  },
  {
   "cell_type": "code",
   "execution_count": 3,
   "id": "e078ff59",
   "metadata": {},
   "outputs": [
    {
     "data": {
      "text/plain": [
       "True"
      ]
     },
     "execution_count": 3,
     "metadata": {},
     "output_type": "execute_result"
    }
   ],
   "source": [
    "bool(3)"
   ]
  },
  {
   "cell_type": "code",
   "execution_count": 4,
   "id": "6a4b742a",
   "metadata": {},
   "outputs": [
    {
     "data": {
      "text/plain": [
       "True"
      ]
     },
     "execution_count": 4,
     "metadata": {},
     "output_type": "execute_result"
    }
   ],
   "source": [
    "bool(-2.7)"
   ]
  },
  {
   "cell_type": "code",
   "execution_count": 5,
   "id": "6702fe69",
   "metadata": {},
   "outputs": [
    {
     "data": {
      "text/plain": [
       "False"
      ]
     },
     "execution_count": 5,
     "metadata": {},
     "output_type": "execute_result"
    }
   ],
   "source": [
    "bool(0)"
   ]
  },
  {
   "cell_type": "code",
   "execution_count": null,
   "id": "ab560f63",
   "metadata": {},
   "outputs": [],
   "source": [
    "#verilen değer 0 a eşit olmadığı sürece True verir."
   ]
  },
  {
   "cell_type": "code",
   "execution_count": 6,
   "id": "74dccba2",
   "metadata": {},
   "outputs": [
    {
     "data": {
      "text/plain": [
       "False"
      ]
     },
     "execution_count": 6,
     "metadata": {},
     "output_type": "execute_result"
    }
   ],
   "source": [
    "1==2"
   ]
  },
  {
   "cell_type": "code",
   "execution_count": 7,
   "id": "558a8595",
   "metadata": {},
   "outputs": [
    {
     "data": {
      "text/plain": [
       "True"
      ]
     },
     "execution_count": 7,
     "metadata": {},
     "output_type": "execute_result"
    }
   ],
   "source": [
    "1==1"
   ]
  },
  {
   "cell_type": "code",
   "execution_count": 11,
   "id": "058e4c5a",
   "metadata": {},
   "outputs": [
    {
     "data": {
      "text/plain": [
       "True"
      ]
     },
     "execution_count": 11,
     "metadata": {},
     "output_type": "execute_result"
    }
   ],
   "source": [
    "30*4==119+1"
   ]
  },
  {
   "cell_type": "code",
   "execution_count": 12,
   "id": "8e15e79b",
   "metadata": {},
   "outputs": [
    {
     "data": {
      "text/plain": [
       "False"
      ]
     },
     "execution_count": 12,
     "metadata": {},
     "output_type": "execute_result"
    }
   ],
   "source": [
    "3*4==11+3"
   ]
  },
  {
   "cell_type": "code",
   "execution_count": null,
   "id": "85aef1f6",
   "metadata": {},
   "outputs": [],
   "source": []
  },
  {
   "cell_type": "code",
   "execution_count": null,
   "id": "eafd9d42",
   "metadata": {},
   "outputs": [],
   "source": [
    "#None belirteci henüz değer atınmadığı anlamına gelir."
   ]
  },
  {
   "cell_type": "code",
   "execution_count": 13,
   "id": "8d79b9c9",
   "metadata": {},
   "outputs": [
    {
     "name": "stdout",
     "output_type": "stream",
     "text": [
      "None\n"
     ]
    }
   ],
   "source": [
    "a = None \n",
    "print(a)"
   ]
  },
  {
   "cell_type": "code",
   "execution_count": 14,
   "id": "5fb1b8fd",
   "metadata": {},
   "outputs": [
    {
     "name": "stdout",
     "output_type": "stream",
     "text": [
      "4\n"
     ]
    }
   ],
   "source": [
    "a=4\n",
    "print(a)"
   ]
  },
  {
   "cell_type": "code",
   "execution_count": null,
   "id": "8e62966c",
   "metadata": {},
   "outputs": [],
   "source": [
    "#KArşılaştırma operatörleri\n",
    "\n",
    "#   == operatörü , iki değer birbirine eşit ise True değilse False sonucu döner.\n",
    "\n",
    "#   != operatörü , iki değer birbirine eşit değil ise True eşitse False sonucunu verir.\n",
    "\n",
    "#   >  operatörü soldaki değer sağdakinden büyükse True değilse False verir.\n",
    "\n",
    "#   <  operatörü soldaki değer sağdakinden küçükse True değilse false verir.\n",
    "\n",
    "#   >=  operatörü soldaki değer sağdakinden büyükse veya esşitse True değilse False verir.\n",
    "\n",
    "#   <=  operatörü soldaki değer sağdakinden küçükse veya eşitse True değilse False verir.\n",
    " \n"
   ]
  },
  {
   "cell_type": "code",
   "execution_count": null,
   "id": "e34b2b04",
   "metadata": {},
   "outputs": [],
   "source": []
  },
  {
   "cell_type": "code",
   "execution_count": 16,
   "id": "ab34d781",
   "metadata": {},
   "outputs": [
    {
     "data": {
      "text/plain": [
       "True"
      ]
     },
     "execution_count": 16,
     "metadata": {},
     "output_type": "execute_result"
    }
   ],
   "source": [
    "\"Mehmet\"  == \"Mehmet\""
   ]
  },
  {
   "cell_type": "code",
   "execution_count": 17,
   "id": "9af4b11d",
   "metadata": {},
   "outputs": [
    {
     "data": {
      "text/plain": [
       "False"
      ]
     },
     "execution_count": 17,
     "metadata": {},
     "output_type": "execute_result"
    }
   ],
   "source": [
    "4==3"
   ]
  },
  {
   "cell_type": "code",
   "execution_count": 18,
   "id": "aa7d26d2",
   "metadata": {},
   "outputs": [
    {
     "data": {
      "text/plain": [
       "False"
      ]
     },
     "execution_count": 18,
     "metadata": {},
     "output_type": "execute_result"
    }
   ],
   "source": [
    "\"Mehmet\" != \"Mehmet\""
   ]
  },
  {
   "cell_type": "code",
   "execution_count": 19,
   "id": "c40e2e19",
   "metadata": {},
   "outputs": [
    {
     "data": {
      "text/plain": [
       "True"
      ]
     },
     "execution_count": 19,
     "metadata": {},
     "output_type": "execute_result"
    }
   ],
   "source": [
    "\"Mehmet\" !=\"Ali\""
   ]
  },
  {
   "cell_type": "code",
   "execution_count": null,
   "id": "cb4a4e7a",
   "metadata": {},
   "outputs": [],
   "source": []
  },
  {
   "cell_type": "code",
   "execution_count": null,
   "id": "e3bcdf3c",
   "metadata": {},
   "outputs": [],
   "source": []
  },
  {
   "cell_type": "code",
   "execution_count": null,
   "id": "cad584ff",
   "metadata": {},
   "outputs": [],
   "source": [
    "#Mantıksal Bağlaçlar           and  , or ve not  operatörü olarak üç çeşittir."
   ]
  },
  {
   "cell_type": "code",
   "execution_count": null,
   "id": "2b916597",
   "metadata": {},
   "outputs": [],
   "source": [
    "#and operatöründe tüm işlemler True ise True değilse False çıkar"
   ]
  },
  {
   "cell_type": "code",
   "execution_count": 20,
   "id": "98154ecb",
   "metadata": {},
   "outputs": [
    {
     "data": {
      "text/plain": [
       "True"
      ]
     },
     "execution_count": 20,
     "metadata": {},
     "output_type": "execute_result"
    }
   ],
   "source": [
    "\"Murat\" == \"Murat\" and 35==35"
   ]
  },
  {
   "cell_type": "code",
   "execution_count": 24,
   "id": "87f0fa30",
   "metadata": {},
   "outputs": [
    {
     "data": {
      "text/plain": [
       "False"
      ]
     },
     "execution_count": 24,
     "metadata": {},
     "output_type": "execute_result"
    }
   ],
   "source": [
    "\"Murat\"==\"Ali\" and 34==90"
   ]
  },
  {
   "cell_type": "code",
   "execution_count": 26,
   "id": "fa6edcdf",
   "metadata": {},
   "outputs": [
    {
     "data": {
      "text/plain": [
       "True"
      ]
     },
     "execution_count": 26,
     "metadata": {},
     "output_type": "execute_result"
    }
   ],
   "source": [
    "4==4 and \"Araba\"== \"Araba\" and 87==87"
   ]
  },
  {
   "cell_type": "code",
   "execution_count": null,
   "id": "b7c78ea6",
   "metadata": {},
   "outputs": [],
   "source": []
  },
  {
   "cell_type": "code",
   "execution_count": null,
   "id": "7eea6947",
   "metadata": {},
   "outputs": [],
   "source": [
    "#or operatörü"
   ]
  },
  {
   "cell_type": "code",
   "execution_count": null,
   "id": "013b2cc8",
   "metadata": {},
   "outputs": [],
   "source": [
    "#iki işlemden birisi True ise True çıkar ."
   ]
  },
  {
   "cell_type": "code",
   "execution_count": 28,
   "id": "eed612b9",
   "metadata": {},
   "outputs": [
    {
     "data": {
      "text/plain": [
       "True"
      ]
     },
     "execution_count": 28,
     "metadata": {},
     "output_type": "execute_result"
    }
   ],
   "source": [
    "\"Murat\"==\"Murat\" or 34==53"
   ]
  },
  {
   "cell_type": "code",
   "execution_count": null,
   "id": "28dc4703",
   "metadata": {},
   "outputs": [],
   "source": [
    "#not operatörü sonuç ne ise tersine çevirir"
   ]
  },
  {
   "cell_type": "code",
   "execution_count": 29,
   "id": "0c0b7d10",
   "metadata": {},
   "outputs": [
    {
     "data": {
      "text/plain": [
       "False"
      ]
     },
     "execution_count": 29,
     "metadata": {},
     "output_type": "execute_result"
    }
   ],
   "source": [
    "not \"Murat\"==\"Murat\""
   ]
  },
  {
   "cell_type": "code",
   "execution_count": null,
   "id": "07d17786",
   "metadata": {},
   "outputs": [],
   "source": [
    "#opratörlerin birlikte kullalnımı"
   ]
  },
  {
   "cell_type": "code",
   "execution_count": 31,
   "id": "09699854",
   "metadata": {},
   "outputs": [
    {
     "data": {
      "text/plain": [
       "False"
      ]
     },
     "execution_count": 31,
     "metadata": {},
     "output_type": "execute_result"
    }
   ],
   "source": [
    "not(2<5 or (\"Murat\"==\"Murat\"and 34!=93))"
   ]
  },
  {
   "cell_type": "code",
   "execution_count": null,
   "id": "12831f94",
   "metadata": {},
   "outputs": [],
   "source": []
  },
  {
   "cell_type": "code",
   "execution_count": null,
   "id": "409f6603",
   "metadata": {},
   "outputs": [],
   "source": [
    "#Koşullu durumlar   if - else koşullu durumları"
   ]
  },
  {
   "cell_type": "code",
   "execution_count": null,
   "id": "e001db4a",
   "metadata": {},
   "outputs": [],
   "source": [
    "#Pythonda programlar belli bloklar halindedir ve bu bloklar girintiler sayesinde oluşturulmaktadır."
   ]
  },
  {
   "cell_type": "code",
   "execution_count": null,
   "id": "4273aaed",
   "metadata": {},
   "outputs": [],
   "source": []
  },
  {
   "cell_type": "code",
   "execution_count": 37,
   "id": "a3b81cd8",
   "metadata": {},
   "outputs": [
    {
     "name": "stdout",
     "output_type": "stream",
     "text": [
      "2\n",
      "merhaba\n"
     ]
    }
   ],
   "source": [
    "a = 2  #blok 1 e ait kod\n",
    "if(a==2):\n",
    "    print(a)     #blok 2 ye ait kod\n",
    "    print(\"merhaba\")  #blok 1 e ait kod"
   ]
  },
  {
   "cell_type": "code",
   "execution_count": null,
   "id": "16d1fa7e",
   "metadata": {},
   "outputs": [],
   "source": [
    "#if in yanındaki değer farklı olsaydı print a kısmı çalışmayacaktı."
   ]
  },
  {
   "cell_type": "code",
   "execution_count": 47,
   "id": "739c4bf6",
   "metadata": {},
   "outputs": [],
   "source": []
  },
  {
   "cell_type": "code",
   "execution_count": null,
   "id": "53f57275",
   "metadata": {},
   "outputs": [],
   "source": [
    "#if Bloğu"
   ]
  },
  {
   "cell_type": "code",
   "execution_count": null,
   "id": "1e29facb",
   "metadata": {},
   "outputs": [],
   "source": [
    "#if bloğu eğer koşul sağlanırsa anlamına gelir çıktı koşul sağlanırsa true sağlanmazsa false olarak döner."
   ]
  },
  {
   "cell_type": "code",
   "execution_count": null,
   "id": "aec015ea",
   "metadata": {},
   "outputs": [],
   "source": [
    "#if bloğunun çalışmadığı yerde else bloğu çalışır else: şeklinde yazılır sadece."
   ]
  },
  {
   "cell_type": "code",
   "execution_count": 48,
   "id": "31f799ec",
   "metadata": {},
   "outputs": [
    {
     "name": "stdout",
     "output_type": "stream",
     "text": [
      "Kaç yaşındasınız?12\n",
      "Mekana giremezsiniz!\n"
     ]
    }
   ],
   "source": [
    "yaş = int(input(\"Kaç yaşındasınız?\"))\n",
    "\n",
    "if yaş <18:\n",
    "\n",
    "    print(\"Mekana giremezsiniz!\")\n",
    "else:\n",
    "    print(\"Buyrun Hoşgelsiniz\")\n",
    "    "
   ]
  },
  {
   "cell_type": "code",
   "execution_count": 49,
   "id": "b751b384",
   "metadata": {},
   "outputs": [
    {
     "name": "stdout",
     "output_type": "stream",
     "text": [
      "Kaç yaşındasınız?19\n",
      "Buyrun Hoşgelsiniz\n"
     ]
    }
   ],
   "source": [
    "yaş = int(input(\"Kaç yaşındasınız?\"))\n",
    "\n",
    "if yaş <18:\n",
    "\n",
    "    print(\"Mekana giremezsiniz!\")\n",
    "else:\n",
    "    print(\"Buyrun Hoşgelsiniz\")\n",
    "    "
   ]
  },
  {
   "cell_type": "code",
   "execution_count": 50,
   "id": "25024966",
   "metadata": {},
   "outputs": [
    {
     "name": "stdout",
     "output_type": "stream",
     "text": [
      "Sayı giriniz:-5\n",
      "Negatif sayı\n"
     ]
    }
   ],
   "source": [
    "sayı = int(input(\"Sayı giriniz:\"))\n",
    "\n",
    "if(sayı<0):\n",
    "    print(\"Negatif sayı\")"
   ]
  },
  {
   "cell_type": "code",
   "execution_count": 55,
   "id": "8e551524",
   "metadata": {},
   "outputs": [
    {
     "name": "stdout",
     "output_type": "stream",
     "text": [
      "Sayı giriniz:687\n",
      "Pozitif sayı\n"
     ]
    }
   ],
   "source": [
    "sayı = int(input(\"Sayı giriniz:\"))\n",
    "\n",
    "if(sayı<0):\n",
    "    print(\"Negatif sayı\")\n",
    "\n",
    "else:\n",
    "    print(\"Pozitif sayı\")\n"
   ]
  },
  {
   "cell_type": "code",
   "execution_count": null,
   "id": "6842309b",
   "metadata": {},
   "outputs": [],
   "source": []
  },
  {
   "cell_type": "code",
   "execution_count": null,
   "id": "9fe5f84b",
   "metadata": {},
   "outputs": [],
   "source": [
    "#if-elif-else blokları"
   ]
  },
  {
   "cell_type": "code",
   "execution_count": 64,
   "id": "5c7ad835",
   "metadata": {},
   "outputs": [
    {
     "name": "stdout",
     "output_type": "stream",
     "text": [
      "Bir işlem giriniz:7\n",
      "Geçersiz işlem.\n"
     ]
    }
   ],
   "source": [
    " işlem =int (input(\"Bir işlem giriniz:\"))\n",
    "\n",
    "if işlem==1:\n",
    "    print(\"İlk işlem seçildi.\")\n",
    "elif işlem ==2:\n",
    "    print(\"işlem iki seçildi.\")\n",
    "elif işlem ==3:\n",
    "    print(\"İşlem üç seçildi.\")\n",
    "elif işlem ==4:\n",
    "    print(\"İşlem dört seçildi.\")\n",
    "else:\n",
    "    print(\"Geçersiz işlem.\")\n",
    "\n"
   ]
  },
  {
   "cell_type": "code",
   "execution_count": 63,
   "id": "e9f58851",
   "metadata": {},
   "outputs": [
    {
     "name": "stdout",
     "output_type": "stream",
     "text": [
      "Bir işlem giriniz:4\n",
      "İşlem dört seçildi.\n"
     ]
    }
   ],
   "source": [
    "işlem =int (input(\"Bir işlem giriniz:\"))\n",
    "\n",
    "if işlem==1:\n",
    "    print(\"İlk işlem seçildi.\")\n",
    "elif işlem ==2:\n",
    "    print(\"işlem iki seçildi.\")\n",
    "elif işlem ==3:\n",
    "    print(\"İşlem üç seçildi.\")\n",
    "elif işlem ==4:\n",
    "    print(\"İşlem dört seçildi.\")\n",
    "else:\n",
    "    print(\"Geçersiz işlem.\")\n"
   ]
  },
  {
   "cell_type": "code",
   "execution_count": null,
   "id": "e179fd3d",
   "metadata": {},
   "outputs": [],
   "source": []
  },
  {
   "cell_type": "code",
   "execution_count": null,
   "id": "c5eff69a",
   "metadata": {},
   "outputs": [],
   "source": [
    "#"
   ]
  },
  {
   "cell_type": "code",
   "execution_count": 68,
   "id": "9cf0566e",
   "metadata": {},
   "outputs": [
    {
     "name": "stdout",
     "output_type": "stream",
     "text": [
      "Notunuzu giriniz:32\n",
      "Notunuz : Kaldınız\n"
     ]
    }
   ],
   "source": [
    "note = float(input(\"Notunuzu giriniz:\"))\n",
    "if (note >= 90):\n",
    "    print(\"AA\")\n",
    "elif(90>note>=80):\n",
    "    print(\"BA\")\n",
    "elif(80>note>=70):\n",
    "    print(\"BB\")\n",
    "elif(70>note>=60):\n",
    "    print(\"CB\")\n",
    "elif(60>note>=50):\n",
    "    print(\"CC\")\n",
    "elif(50>note>=40):\n",
    "    print(\"DC\")\n",
    "elif(40>note>35):\n",
    "    print(\"DD\")\n",
    "else:\n",
    "    print(\"Notunuz : Kaldınız\")"
   ]
  },
  {
   "cell_type": "code",
   "execution_count": null,
   "id": "c4077c93",
   "metadata": {},
   "outputs": [],
   "source": []
  },
  {
   "cell_type": "code",
   "execution_count": null,
   "id": "080f22bd",
   "metadata": {},
   "outputs": [],
   "source": []
  },
  {
   "cell_type": "code",
   "execution_count": null,
   "id": "cf14e4e1",
   "metadata": {},
   "outputs": [],
   "source": []
  },
  {
   "cell_type": "code",
   "execution_count": null,
   "id": "ece01f18",
   "metadata": {},
   "outputs": [],
   "source": []
  },
  {
   "cell_type": "code",
   "execution_count": null,
   "id": "919ce432",
   "metadata": {},
   "outputs": [],
   "source": []
  },
  {
   "cell_type": "code",
   "execution_count": null,
   "id": "0d85c545",
   "metadata": {},
   "outputs": [],
   "source": []
  },
  {
   "cell_type": "code",
   "execution_count": null,
   "id": "94beb53b",
   "metadata": {},
   "outputs": [],
   "source": []
  },
  {
   "cell_type": "code",
   "execution_count": null,
   "id": "1260c568",
   "metadata": {},
   "outputs": [],
   "source": []
  },
  {
   "cell_type": "code",
   "execution_count": null,
   "id": "723891f7",
   "metadata": {},
   "outputs": [],
   "source": []
  },
  {
   "cell_type": "code",
   "execution_count": null,
   "id": "79a8ec1e",
   "metadata": {},
   "outputs": [],
   "source": []
  },
  {
   "cell_type": "code",
   "execution_count": null,
   "id": "086b16bd",
   "metadata": {},
   "outputs": [],
   "source": []
  },
  {
   "cell_type": "code",
   "execution_count": null,
   "id": "e999bbcc",
   "metadata": {},
   "outputs": [],
   "source": []
  },
  {
   "cell_type": "code",
   "execution_count": null,
   "id": "289f20f7",
   "metadata": {},
   "outputs": [],
   "source": []
  }
 ],
 "metadata": {
  "kernelspec": {
   "display_name": "Python 3 (ipykernel)",
   "language": "python",
   "name": "python3"
  },
  "language_info": {
   "codemirror_mode": {
    "name": "ipython",
    "version": 3
   },
   "file_extension": ".py",
   "mimetype": "text/x-python",
   "name": "python",
   "nbconvert_exporter": "python",
   "pygments_lexer": "ipython3",
   "version": "3.9.7"
  }
 },
 "nbformat": 4,
 "nbformat_minor": 5
}
